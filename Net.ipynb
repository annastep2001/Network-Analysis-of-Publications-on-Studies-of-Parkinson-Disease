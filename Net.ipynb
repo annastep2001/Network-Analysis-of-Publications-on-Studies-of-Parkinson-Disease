{
 "cells": [
  {
   "cell_type": "markdown",
   "metadata": {},
   "source": [
    "# Network Analysis of Publications on Studies of Parkinson Disease"
   ]
  },
  {
   "cell_type": "code",
   "execution_count": 2,
   "metadata": {},
   "outputs": [],
   "source": [
    "import pandas as pd\n",
    "import ast\n",
    "from ast import literal_eval\n",
    "import numpy as np\n",
    "import warnings\n",
    "import matplotlib.pyplot as plt\n",
    "import seaborn as sns\n",
    "import matplotlib as mpl\n",
    "from matplotlib import rcParams\n",
    "warnings.filterwarnings('ignore')"
   ]
  },
  {
   "cell_type": "code",
   "execution_count": 3,
   "metadata": {},
   "outputs": [],
   "source": [
    "def read_data(path, sep):\n",
    "    df = pd.read_csv(path, sep=sep)\n",
    "    df.loc[:, 'AA'] = df['AA'].apply(lambda x: ast.literal_eval(x))\n",
    "    df.loc[:, 'W'] = df['W'].apply(lambda x: ast.literal_eval(x))\n",
    "    return df"
   ]
  },
  {
   "cell_type": "code",
   "execution_count": 4,
   "metadata": {},
   "outputs": [],
   "source": [
    "with_doi_annotation_journals = read_data('with_doi_annotation_journals.csv', sep = ';')"
   ]
  },
  {
   "cell_type": "code",
   "execution_count": 5,
   "metadata": {},
   "outputs": [],
   "source": [
    "with_doi_annotation_journals['RId'].fillna('[]', inplace = True)\n",
    "with_doi_annotation_journals.loc[:, 'RId'] = with_doi_annotation_journals['RId'].apply(lambda x: ast.literal_eval(x))"
   ]
  },
  {
   "cell_type": "markdown",
   "metadata": {},
   "source": [
    "## Preprocessing"
   ]
  },
  {
   "cell_type": "markdown",
   "metadata": {},
   "source": [
    "After more detailed analysys were found 115 papers about Danon disease and one of its symptoms Wolff-Parkinson-White syndrome. This articles were excluded from data"
   ]
  },
  {
   "cell_type": "code",
   "execution_count": 6,
   "metadata": {},
   "outputs": [],
   "source": [
    "danon_ind = []\n",
    "for i in range(with_doi_annotation_journals.shape[0]):\n",
    "    if ((('wolff' in with_doi_annotation_journals.iloc[i]['AW']) and ('parkinson' in with_doi_annotation_journals.iloc[i]['AW'])) or \n",
    "        ('danon' in with_doi_annotation_journals.iloc[i]['AW']) or \n",
    "        (('wolff' in with_doi_annotation_journals.iloc[i]['W']) and ('parkinson' in with_doi_annotation_journals.iloc[i]['W'])) or \n",
    "        ('danon' in with_doi_annotation_journals.iloc[i]['W']) or \n",
    "        ('wpw' in with_doi_annotation_journals.iloc[i]['W']) or \n",
    "        ('wpw' in with_doi_annotation_journals.iloc[i]['AW']) or\n",
    "        ('wpws' in with_doi_annotation_journals.iloc[i]['W']) or \n",
    "        ('wpws' in with_doi_annotation_journals.iloc[i]['AW'])):\n",
    "        danon_ind.append(i)\n",
    "\n",
    "ind = list(set(np.arange(0, with_doi_annotation_journals.shape[0])) - set(danon_ind))"
   ]
  },
  {
   "cell_type": "code",
   "execution_count": 31,
   "metadata": {},
   "outputs": [
    {
     "name": "stdout",
     "output_type": "stream",
     "text": [
      "The number of articles without WPW-syndrome: 45825\n"
     ]
    }
   ],
   "source": [
    "print('The number of articles without WPW-syndrome:', dataset.shape[0])"
   ]
  },
  {
   "cell_type": "code",
   "execution_count": 7,
   "metadata": {},
   "outputs": [],
   "source": [
    "with_doi_annotation_journals.iloc[danon_ind].to_csv('wpw.csv', sep = ';')\n",
    "dataset = with_doi_annotation_journals.iloc[ind]\n",
    "dataset.to_csv('dataset.csv', sep = ';')"
   ]
  },
  {
   "cell_type": "markdown",
   "metadata": {},
   "source": [
    "## Network"
   ]
  },
  {
   "cell_type": "code",
   "execution_count": 8,
   "metadata": {},
   "outputs": [],
   "source": [
    "net = []\n",
    "i = 0\n",
    "for i in range(dataset.shape[0]):\n",
    "    paper_id = dataset.iloc[i]['Id']\n",
    "    refs = dataset.iloc[i]['RId']\n",
    "    if len(refs) != 0:\n",
    "        for ref in refs:\n",
    "            net.append([paper_id, ref])\n",
    "net = pd.DataFrame(net)\n",
    "net.rename(columns = {0: 'ID1', 1: 'ID2'}, inplace = True)"
   ]
  },
  {
   "cell_type": "code",
   "execution_count": 9,
   "metadata": {},
   "outputs": [
    {
     "data": {
      "text/html": [
       "<div>\n",
       "<style scoped>\n",
       "    .dataframe tbody tr th:only-of-type {\n",
       "        vertical-align: middle;\n",
       "    }\n",
       "\n",
       "    .dataframe tbody tr th {\n",
       "        vertical-align: top;\n",
       "    }\n",
       "\n",
       "    .dataframe thead th {\n",
       "        text-align: right;\n",
       "    }\n",
       "</style>\n",
       "<table border=\"1\" class=\"dataframe\">\n",
       "  <thead>\n",
       "    <tr style=\"text-align: right;\">\n",
       "      <th></th>\n",
       "      <th>ID1</th>\n",
       "      <th>ID2</th>\n",
       "    </tr>\n",
       "  </thead>\n",
       "  <tbody>\n",
       "    <tr>\n",
       "      <td>0</td>\n",
       "      <td>2754967293</td>\n",
       "      <td>2159011576</td>\n",
       "    </tr>\n",
       "    <tr>\n",
       "      <td>1</td>\n",
       "      <td>2754967293</td>\n",
       "      <td>2751884637</td>\n",
       "    </tr>\n",
       "    <tr>\n",
       "      <td>2</td>\n",
       "      <td>2754967293</td>\n",
       "      <td>2125065061</td>\n",
       "    </tr>\n",
       "    <tr>\n",
       "      <td>3</td>\n",
       "      <td>2754967293</td>\n",
       "      <td>2168630917</td>\n",
       "    </tr>\n",
       "    <tr>\n",
       "      <td>4</td>\n",
       "      <td>2754967293</td>\n",
       "      <td>2614986146</td>\n",
       "    </tr>\n",
       "    <tr>\n",
       "      <td>...</td>\n",
       "      <td>...</td>\n",
       "      <td>...</td>\n",
       "    </tr>\n",
       "    <tr>\n",
       "      <td>2488338</td>\n",
       "      <td>2359940301</td>\n",
       "      <td>2083278876</td>\n",
       "    </tr>\n",
       "    <tr>\n",
       "      <td>2488339</td>\n",
       "      <td>2359940301</td>\n",
       "      <td>2025616544</td>\n",
       "    </tr>\n",
       "    <tr>\n",
       "      <td>2488340</td>\n",
       "      <td>2359940301</td>\n",
       "      <td>2049088811</td>\n",
       "    </tr>\n",
       "    <tr>\n",
       "      <td>2488341</td>\n",
       "      <td>2359940301</td>\n",
       "      <td>1978301967</td>\n",
       "    </tr>\n",
       "    <tr>\n",
       "      <td>2488342</td>\n",
       "      <td>2359940301</td>\n",
       "      <td>2168283927</td>\n",
       "    </tr>\n",
       "  </tbody>\n",
       "</table>\n",
       "<p>2488343 rows × 2 columns</p>\n",
       "</div>"
      ],
      "text/plain": [
       "                ID1         ID2\n",
       "0        2754967293  2159011576\n",
       "1        2754967293  2751884637\n",
       "2        2754967293  2125065061\n",
       "3        2754967293  2168630917\n",
       "4        2754967293  2614986146\n",
       "...             ...         ...\n",
       "2488338  2359940301  2083278876\n",
       "2488339  2359940301  2025616544\n",
       "2488340  2359940301  2049088811\n",
       "2488341  2359940301  1978301967\n",
       "2488342  2359940301  2168283927\n",
       "\n",
       "[2488343 rows x 2 columns]"
      ]
     },
     "execution_count": 9,
     "metadata": {},
     "output_type": "execute_result"
    }
   ],
   "source": [
    "net"
   ]
  },
  {
   "cell_type": "code",
   "execution_count": 15,
   "metadata": {},
   "outputs": [],
   "source": [
    "net.to_csv('net.csv', index = False, sep = ';')"
   ]
  },
  {
   "cell_type": "code",
   "execution_count": 39,
   "metadata": {},
   "outputs": [
    {
     "name": "stdout",
     "output_type": "stream",
     "text": [
      "The number of vertices: 780796\n"
     ]
    }
   ],
   "source": [
    "print('The number of vertices:', len(set(net['ID1'].values) | set(net['ID2'].values)))"
   ]
  },
  {
   "cell_type": "markdown",
   "metadata": {},
   "source": [
    "Excluding papers that refer to ones not from our final set "
   ]
  },
  {
   "cell_type": "code",
   "execution_count": 40,
   "metadata": {},
   "outputs": [],
   "source": [
    "ids = pd.unique(dataset['Id']) # all Id\n",
    "excluded_net = net.copy()\n",
    "excluded_net = excluded_net.loc[excluded_net['ID2'].isin(ids)] # retain only from dataset"
   ]
  },
  {
   "cell_type": "code",
   "execution_count": 41,
   "metadata": {},
   "outputs": [
    {
     "data": {
      "text/html": [
       "<div>\n",
       "<style scoped>\n",
       "    .dataframe tbody tr th:only-of-type {\n",
       "        vertical-align: middle;\n",
       "    }\n",
       "\n",
       "    .dataframe tbody tr th {\n",
       "        vertical-align: top;\n",
       "    }\n",
       "\n",
       "    .dataframe thead th {\n",
       "        text-align: right;\n",
       "    }\n",
       "</style>\n",
       "<table border=\"1\" class=\"dataframe\">\n",
       "  <thead>\n",
       "    <tr style=\"text-align: right;\">\n",
       "      <th></th>\n",
       "      <th>ID1</th>\n",
       "      <th>ID2</th>\n",
       "    </tr>\n",
       "  </thead>\n",
       "  <tbody>\n",
       "    <tr>\n",
       "      <td>0</td>\n",
       "      <td>2754967293</td>\n",
       "      <td>2901519529</td>\n",
       "    </tr>\n",
       "    <tr>\n",
       "      <td>1</td>\n",
       "      <td>2754967293</td>\n",
       "      <td>2339791932</td>\n",
       "    </tr>\n",
       "    <tr>\n",
       "      <td>2</td>\n",
       "      <td>2112455323</td>\n",
       "      <td>1920030402</td>\n",
       "    </tr>\n",
       "    <tr>\n",
       "      <td>3</td>\n",
       "      <td>2177834950</td>\n",
       "      <td>2123627348</td>\n",
       "    </tr>\n",
       "    <tr>\n",
       "      <td>4</td>\n",
       "      <td>2558041282</td>\n",
       "      <td>1934236512</td>\n",
       "    </tr>\n",
       "    <tr>\n",
       "      <td>...</td>\n",
       "      <td>...</td>\n",
       "      <td>...</td>\n",
       "    </tr>\n",
       "    <tr>\n",
       "      <td>312039</td>\n",
       "      <td>2895767795</td>\n",
       "      <td>1967224666</td>\n",
       "    </tr>\n",
       "    <tr>\n",
       "      <td>312040</td>\n",
       "      <td>2895767795</td>\n",
       "      <td>2274550138</td>\n",
       "    </tr>\n",
       "    <tr>\n",
       "      <td>312041</td>\n",
       "      <td>2895767795</td>\n",
       "      <td>2617488731</td>\n",
       "    </tr>\n",
       "    <tr>\n",
       "      <td>312042</td>\n",
       "      <td>2619593042</td>\n",
       "      <td>2545724250</td>\n",
       "    </tr>\n",
       "    <tr>\n",
       "      <td>312043</td>\n",
       "      <td>2618950587</td>\n",
       "      <td>2545724250</td>\n",
       "    </tr>\n",
       "  </tbody>\n",
       "</table>\n",
       "<p>312044 rows × 2 columns</p>\n",
       "</div>"
      ],
      "text/plain": [
       "               ID1         ID2\n",
       "0       2754967293  2901519529\n",
       "1       2754967293  2339791932\n",
       "2       2112455323  1920030402\n",
       "3       2177834950  2123627348\n",
       "4       2558041282  1934236512\n",
       "...            ...         ...\n",
       "312039  2895767795  1967224666\n",
       "312040  2895767795  2274550138\n",
       "312041  2895767795  2617488731\n",
       "312042  2619593042  2545724250\n",
       "312043  2618950587  2545724250\n",
       "\n",
       "[312044 rows x 2 columns]"
      ]
     },
     "execution_count": 41,
     "metadata": {},
     "output_type": "execute_result"
    }
   ],
   "source": [
    "excluded_net.reset_index(drop = True, inplace = True)\n",
    "excluded_net"
   ]
  },
  {
   "cell_type": "code",
   "execution_count": 42,
   "metadata": {},
   "outputs": [
    {
     "name": "stdout",
     "output_type": "stream",
     "text": [
      "The number of vertices: 39825\n"
     ]
    }
   ],
   "source": [
    "vert_filtered = set(excluded_net['ID1'].values) | set(excluded_net['ID2'].values)\n",
    "print('The number of vertices:', len(vert_filtered))"
   ]
  },
  {
   "cell_type": "markdown",
   "metadata": {},
   "source": [
    "Year of publication of the paper with ID1 must not be less than the date of publication of the paper with ID2. Such edges were also deleted from the network"
   ]
  },
  {
   "cell_type": "code",
   "execution_count": 43,
   "metadata": {},
   "outputs": [],
   "source": [
    "net_year = excluded_net.merge(dataset, how = 'left', left_on = 'ID1', right_on = 'Id')[['ID1', 'ID2', 'Y']].rename(columns = {'Y':'Y1'})\n",
    "net_year = net_year.merge(dataset, how = 'left', left_on = 'ID2', right_on = 'Id')[['ID1', 'ID2', 'Y1', 'Y']].rename(columns = {'Y':'Y2'})"
   ]
  },
  {
   "cell_type": "code",
   "execution_count": 44,
   "metadata": {},
   "outputs": [
    {
     "data": {
      "text/html": [
       "<div>\n",
       "<style scoped>\n",
       "    .dataframe tbody tr th:only-of-type {\n",
       "        vertical-align: middle;\n",
       "    }\n",
       "\n",
       "    .dataframe tbody tr th {\n",
       "        vertical-align: top;\n",
       "    }\n",
       "\n",
       "    .dataframe thead th {\n",
       "        text-align: right;\n",
       "    }\n",
       "</style>\n",
       "<table border=\"1\" class=\"dataframe\">\n",
       "  <thead>\n",
       "    <tr style=\"text-align: right;\">\n",
       "      <th></th>\n",
       "      <th>ID1</th>\n",
       "      <th>ID2</th>\n",
       "      <th>Y1</th>\n",
       "      <th>Y2</th>\n",
       "    </tr>\n",
       "  </thead>\n",
       "  <tbody>\n",
       "    <tr>\n",
       "      <td>0</td>\n",
       "      <td>2754967293</td>\n",
       "      <td>2901519529</td>\n",
       "      <td>2017</td>\n",
       "      <td>2018</td>\n",
       "    </tr>\n",
       "    <tr>\n",
       "      <td>1</td>\n",
       "      <td>2754967293</td>\n",
       "      <td>2339791932</td>\n",
       "      <td>2017</td>\n",
       "      <td>2016</td>\n",
       "    </tr>\n",
       "    <tr>\n",
       "      <td>2</td>\n",
       "      <td>2112455323</td>\n",
       "      <td>1920030402</td>\n",
       "      <td>2015</td>\n",
       "      <td>2015</td>\n",
       "    </tr>\n",
       "    <tr>\n",
       "      <td>3</td>\n",
       "      <td>2177834950</td>\n",
       "      <td>2123627348</td>\n",
       "      <td>2015</td>\n",
       "      <td>2015</td>\n",
       "    </tr>\n",
       "    <tr>\n",
       "      <td>4</td>\n",
       "      <td>2558041282</td>\n",
       "      <td>1934236512</td>\n",
       "      <td>2016</td>\n",
       "      <td>2015</td>\n",
       "    </tr>\n",
       "    <tr>\n",
       "      <td>...</td>\n",
       "      <td>...</td>\n",
       "      <td>...</td>\n",
       "      <td>...</td>\n",
       "      <td>...</td>\n",
       "    </tr>\n",
       "    <tr>\n",
       "      <td>312039</td>\n",
       "      <td>2895767795</td>\n",
       "      <td>1967224666</td>\n",
       "      <td>2019</td>\n",
       "      <td>2015</td>\n",
       "    </tr>\n",
       "    <tr>\n",
       "      <td>312040</td>\n",
       "      <td>2895767795</td>\n",
       "      <td>2274550138</td>\n",
       "      <td>2019</td>\n",
       "      <td>2015</td>\n",
       "    </tr>\n",
       "    <tr>\n",
       "      <td>312041</td>\n",
       "      <td>2895767795</td>\n",
       "      <td>2617488731</td>\n",
       "      <td>2019</td>\n",
       "      <td>2017</td>\n",
       "    </tr>\n",
       "    <tr>\n",
       "      <td>312042</td>\n",
       "      <td>2619593042</td>\n",
       "      <td>2545724250</td>\n",
       "      <td>2017</td>\n",
       "      <td>2016</td>\n",
       "    </tr>\n",
       "    <tr>\n",
       "      <td>312043</td>\n",
       "      <td>2618950587</td>\n",
       "      <td>2545724250</td>\n",
       "      <td>2017</td>\n",
       "      <td>2016</td>\n",
       "    </tr>\n",
       "  </tbody>\n",
       "</table>\n",
       "<p>312044 rows × 4 columns</p>\n",
       "</div>"
      ],
      "text/plain": [
       "               ID1         ID2    Y1    Y2\n",
       "0       2754967293  2901519529  2017  2018\n",
       "1       2754967293  2339791932  2017  2016\n",
       "2       2112455323  1920030402  2015  2015\n",
       "3       2177834950  2123627348  2015  2015\n",
       "4       2558041282  1934236512  2016  2015\n",
       "...            ...         ...   ...   ...\n",
       "312039  2895767795  1967224666  2019  2015\n",
       "312040  2895767795  2274550138  2019  2015\n",
       "312041  2895767795  2617488731  2019  2017\n",
       "312042  2619593042  2545724250  2017  2016\n",
       "312043  2618950587  2545724250  2017  2016\n",
       "\n",
       "[312044 rows x 4 columns]"
      ]
     },
     "execution_count": 44,
     "metadata": {},
     "output_type": "execute_result"
    }
   ],
   "source": [
    "net_year"
   ]
  },
  {
   "cell_type": "code",
   "execution_count": 45,
   "metadata": {},
   "outputs": [],
   "source": [
    "drop_ind = []\n",
    "for i in range(len(net_year)):\n",
    "    if net_year.iloc[i]['Y1'] < net_year.iloc[i]['Y2']: # edge from past to future\n",
    "        drop_ind.append(i)"
   ]
  },
  {
   "cell_type": "code",
   "execution_count": 46,
   "metadata": {},
   "outputs": [
    {
     "data": {
      "text/plain": [
       "1215"
      ]
     },
     "execution_count": 46,
     "metadata": {},
     "output_type": "execute_result"
    }
   ],
   "source": [
    "len(drop_ind)"
   ]
  },
  {
   "cell_type": "code",
   "execution_count": 47,
   "metadata": {},
   "outputs": [],
   "source": [
    "ind = list(set(np.arange(0, len(net_year))) - set(drop_ind)) "
   ]
  },
  {
   "cell_type": "code",
   "execution_count": 48,
   "metadata": {},
   "outputs": [],
   "source": [
    "edges_to_drop = net_year.iloc[drop_ind][['ID1', 'ID2']]  # drop edges from past to future\n",
    "edges_to_drop.loc[:, 'weight'] = 1\n",
    "edges_to_drop = edges_to_drop.merge(dataset, how = 'left', left_on = 'ID1', right_on = 'Id')[['ID1', 'ID2', 'weight', 'Y']]\n",
    "edges_to_drop.to_csv('edges_to_drop.csv', sep = ';', index = False)"
   ]
  },
  {
   "cell_type": "code",
   "execution_count": 49,
   "metadata": {},
   "outputs": [],
   "source": [
    "new_excluded_net = net_year.iloc[ind][['ID1', 'ID2']] # filtered net\n",
    "new_excluded_net.loc[:, 'weight'] = 1\n",
    "new_excluded_net = new_excluded_net.merge(dataset, how = 'left', left_on = 'ID1', right_on = 'Id')[['ID1', 'ID2', 'weight', 'Y']]\n",
    "new_vert_filtered = set(new_excluded_net['ID1'].values) | set(new_excluded_net['ID2'].values)"
   ]
  },
  {
   "cell_type": "code",
   "execution_count": 50,
   "metadata": {},
   "outputs": [],
   "source": [
    "vert_filtered = new_vert_filtered\n",
    "excluded_net = new_excluded_net\n",
    "pd.DataFrame(list(vert_filtered)).to_csv('vert_filtered.csv', index = False) # vetrices\n",
    "excluded_net.to_csv('excluded_net.csv', index = False, sep = ';') # net"
   ]
  },
  {
   "cell_type": "code",
   "execution_count": 51,
   "metadata": {},
   "outputs": [],
   "source": [
    "filtered_data = dataset[dataset['Id'].isin(list(vert_filtered))] # information about vertices\n",
    "filtered_data.to_csv('filtered_data.csv', index = False, sep = ';')"
   ]
  },
  {
   "cell_type": "code",
   "execution_count": 52,
   "metadata": {},
   "outputs": [
    {
     "data": {
      "text/html": [
       "<div>\n",
       "<style scoped>\n",
       "    .dataframe tbody tr th:only-of-type {\n",
       "        vertical-align: middle;\n",
       "    }\n",
       "\n",
       "    .dataframe tbody tr th {\n",
       "        vertical-align: top;\n",
       "    }\n",
       "\n",
       "    .dataframe thead th {\n",
       "        text-align: right;\n",
       "    }\n",
       "</style>\n",
       "<table border=\"1\" class=\"dataframe\">\n",
       "  <thead>\n",
       "    <tr style=\"text-align: right;\">\n",
       "      <th></th>\n",
       "      <th>ID1</th>\n",
       "      <th>ID2</th>\n",
       "      <th>weight</th>\n",
       "      <th>Y</th>\n",
       "    </tr>\n",
       "  </thead>\n",
       "  <tbody>\n",
       "    <tr>\n",
       "      <td>0</td>\n",
       "      <td>2754967293</td>\n",
       "      <td>2339791932</td>\n",
       "      <td>1</td>\n",
       "      <td>2017</td>\n",
       "    </tr>\n",
       "    <tr>\n",
       "      <td>1</td>\n",
       "      <td>2112455323</td>\n",
       "      <td>1920030402</td>\n",
       "      <td>1</td>\n",
       "      <td>2015</td>\n",
       "    </tr>\n",
       "    <tr>\n",
       "      <td>2</td>\n",
       "      <td>2177834950</td>\n",
       "      <td>2123627348</td>\n",
       "      <td>1</td>\n",
       "      <td>2015</td>\n",
       "    </tr>\n",
       "    <tr>\n",
       "      <td>3</td>\n",
       "      <td>2558041282</td>\n",
       "      <td>1934236512</td>\n",
       "      <td>1</td>\n",
       "      <td>2016</td>\n",
       "    </tr>\n",
       "    <tr>\n",
       "      <td>4</td>\n",
       "      <td>2558041282</td>\n",
       "      <td>1947901277</td>\n",
       "      <td>1</td>\n",
       "      <td>2016</td>\n",
       "    </tr>\n",
       "    <tr>\n",
       "      <td>...</td>\n",
       "      <td>...</td>\n",
       "      <td>...</td>\n",
       "      <td>...</td>\n",
       "      <td>...</td>\n",
       "    </tr>\n",
       "    <tr>\n",
       "      <td>310824</td>\n",
       "      <td>2895767795</td>\n",
       "      <td>1967224666</td>\n",
       "      <td>1</td>\n",
       "      <td>2019</td>\n",
       "    </tr>\n",
       "    <tr>\n",
       "      <td>310825</td>\n",
       "      <td>2895767795</td>\n",
       "      <td>2274550138</td>\n",
       "      <td>1</td>\n",
       "      <td>2019</td>\n",
       "    </tr>\n",
       "    <tr>\n",
       "      <td>310826</td>\n",
       "      <td>2895767795</td>\n",
       "      <td>2617488731</td>\n",
       "      <td>1</td>\n",
       "      <td>2019</td>\n",
       "    </tr>\n",
       "    <tr>\n",
       "      <td>310827</td>\n",
       "      <td>2619593042</td>\n",
       "      <td>2545724250</td>\n",
       "      <td>1</td>\n",
       "      <td>2017</td>\n",
       "    </tr>\n",
       "    <tr>\n",
       "      <td>310828</td>\n",
       "      <td>2618950587</td>\n",
       "      <td>2545724250</td>\n",
       "      <td>1</td>\n",
       "      <td>2017</td>\n",
       "    </tr>\n",
       "  </tbody>\n",
       "</table>\n",
       "<p>310829 rows × 4 columns</p>\n",
       "</div>"
      ],
      "text/plain": [
       "               ID1         ID2  weight     Y\n",
       "0       2754967293  2339791932       1  2017\n",
       "1       2112455323  1920030402       1  2015\n",
       "2       2177834950  2123627348       1  2015\n",
       "3       2558041282  1934236512       1  2016\n",
       "4       2558041282  1947901277       1  2016\n",
       "...            ...         ...     ...   ...\n",
       "310824  2895767795  1967224666       1  2019\n",
       "310825  2895767795  2274550138       1  2019\n",
       "310826  2895767795  2617488731       1  2019\n",
       "310827  2619593042  2545724250       1  2017\n",
       "310828  2618950587  2545724250       1  2017\n",
       "\n",
       "[310829 rows x 4 columns]"
      ]
     },
     "execution_count": 52,
     "metadata": {},
     "output_type": "execute_result"
    }
   ],
   "source": [
    "excluded_net"
   ]
  },
  {
   "cell_type": "code",
   "execution_count": 53,
   "metadata": {},
   "outputs": [
    {
     "name": "stdout",
     "output_type": "stream",
     "text": [
      "The number of vertices: 39811\n"
     ]
    }
   ],
   "source": [
    "print('The number of vertices:', len(vert_filtered))"
   ]
  }
 ],
 "metadata": {
  "kernelspec": {
   "display_name": "Python 3",
   "language": "python",
   "name": "python3"
  },
  "language_info": {
   "codemirror_mode": {
    "name": "ipython",
    "version": 3
   },
   "file_extension": ".py",
   "mimetype": "text/x-python",
   "name": "python",
   "nbconvert_exporter": "python",
   "pygments_lexer": "ipython3",
   "version": "3.7.4"
  }
 },
 "nbformat": 4,
 "nbformat_minor": 2
}
