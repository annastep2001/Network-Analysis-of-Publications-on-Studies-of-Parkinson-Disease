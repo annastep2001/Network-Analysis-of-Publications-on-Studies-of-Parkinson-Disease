{
 "cells": [
  {
   "cell_type": "markdown",
   "metadata": {},
   "source": [
    "# Network Analysis of Publications on Studies of Parkinson Disease"
   ]
  },
  {
   "cell_type": "markdown",
   "metadata": {},
   "source": [
    "## Data collection and preprocessing"
   ]
  },
  {
   "cell_type": "markdown",
   "metadata": {},
   "source": [
    "The Microsoft Academic search engine was used to access the data. Firstly, information about publications for 2015-2021 which contained both words 'parkinson' and 'disease' in title or annotation was downloaded. This time interval was chosen to find out the main interests of scientists and trends in recent years.\n",
    "\n",
    "There are many [attributes](https://docs.microsoft.com/en-us/academic-services/project-academic-knowledge/reference-paper-entity-attributes) of the paper that company provides for downloading. In this work we use only this attributes:\n",
    "\n",
    "- Id - Paper ID\n",
    "- Ti - Normalized title\n",
    "- W - Unique, normalized words in title\t\n",
    "- AW - Unique, normalized words in abstract, excluding common/stopwords\n",
    "- Y - Year published\n",
    "- CC - Citation count\n",
    "- RId - List of referenced paper IDs\n",
    "- DN - Original paper title\n",
    "- DOI - Digital Object Identifier\n",
    "- IA - Inverted abstract {IndexLength - Number of items in the index (abstract's word count), InvertedIndex - List of abstract words and their corresponding position in the original abstract }\n",
    "- AA.AfId\t- Author affiliation ID\t\n",
    "- AA.AfN - Author affiliation name\n",
    "- AA.AuId\t- Author ID\n",
    "- AA.AuN - Normalized author name\t\n",
    "- AA.DAuN\t- Original author name\t\n",
    "- AA.DAfN\t- Original affiliation name\n",
    "- J.JId - Journal ID\n",
    "- J.JN - Journal name\n",
    "- D - Date published in YYYY-MM-DD format\n",
    "\n",
    "Date of access to the database: 20.11.2021"
   ]
  },
  {
   "cell_type": "markdown",
   "metadata": {},
   "source": [
    "The main Pyhon libraries that were used to analyse data:"
   ]
  },
  {
   "cell_type": "code",
   "execution_count": 1,
   "metadata": {},
   "outputs": [],
   "source": [
    "import pandas as pd\n",
    "import ast\n",
    "from ast import literal_eval\n",
    "import numpy as np\n",
    "import warnings\n",
    "import matplotlib.pyplot as plt\n",
    "import seaborn as sns\n",
    "import matplotlib as mpl\n",
    "from matplotlib import rcParams\n",
    "warnings.filterwarnings('ignore')"
   ]
  },
  {
   "cell_type": "markdown",
   "metadata": {},
   "source": [
    "Data downloading:"
   ]
  },
  {
   "cell_type": "code",
   "execution_count": 22,
   "metadata": {
    "scrolled": true
   },
   "outputs": [],
   "source": [
    "import http.client, urllib.request, urllib.parse, urllib.error, base64, json, httplib2, urllib\n",
    "\n",
    "headers = {\n",
    "    'Ocp-Apim-Subscription-Key': '205b33891e4c4bab9f5fc93cf431e32c',\n",
    "}\n",
    "offset = 0\n",
    "count = 1000\n",
    "\n",
    "all_data = pd.DataFrame()\n",
    "i = 0\n",
    "\n",
    "while(1):\n",
    "    params = urllib.parse.urlencode({\n",
    "        'model': 'latest',\n",
    "        'attributes': 'Ti,DN,AA.DAuN,AA.DAfN,AA.AuN,Y,CC,Id,RId,AW,DOI,J.JId,J.JN,W,AW,IA,AA.AfId,AA.AfN,AA.AuId,D',\n",
    "        'count': f'{count}',\n",
    "        'offset': f'{offset}',\n",
    "        'timeout': '10',\n",
    "    })\n",
    "    try:\n",
    "        conn = http.client.HTTPSConnection('api.labs.cognitive.microsoft.com')\n",
    "        conn.request(\"GET\", \"/academic/v1.0/evaluate?expr=And(Or(And(W='parkinson',W='disease'),And(AW='parkinson',AW='disease')),Y=[2015,2021])&%s\" % params, \"{body}\", headers)\n",
    "\n",
    "        response = conn.getresponse()\n",
    "        data = response.read()\n",
    "\n",
    "        data1 = json.loads(data)\n",
    "\n",
    "        data1 = data1['entities']\n",
    "\n",
    "        tmp = pd.DataFrame(data1)\n",
    "\n",
    "        if tmp.empty:\n",
    "            break\n",
    "        all_data = pd.concat([all_data, tmp])\n",
    "\n",
    "        conn.close()\n",
    "    except Exception as e:\n",
    "        print(\"[Errno {0}] {1}\".format(e.errno, e.strerror))\n",
    "        break\n",
    "    offset += count\n",
    "    i+=1"
   ]
  },
  {
   "cell_type": "code",
   "execution_count": 34,
   "metadata": {},
   "outputs": [],
   "source": [
    "all_data.drop(['logprob', 'prob'], axis = 1, inplace = True)"
   ]
  },
  {
   "cell_type": "code",
   "execution_count": 73,
   "metadata": {},
   "outputs": [],
   "source": [
    "all_data = all_data.drop_duplicates('Id')\n",
    "all_data.reset_index(drop = True, inplace = True)"
   ]
  },
  {
   "cell_type": "code",
   "execution_count": 75,
   "metadata": {},
   "outputs": [],
   "source": [
    "all_data.to_csv('parkinson_data.csv', sep = ';', index = False)"
   ]
  },
  {
   "cell_type": "markdown",
   "metadata": {},
   "source": [
    "Fuction that reads data from a csv file and converts information in 'AA' (all about authors) and 'W' (words in title) columns from string to list format"
   ]
  },
  {
   "cell_type": "code",
   "execution_count": 2,
   "metadata": {},
   "outputs": [],
   "source": [
    "def read_data(path, sep):\n",
    "    df = pd.read_csv(path, sep=sep)\n",
    "    df.loc[:, 'AA'] = df['AA'].apply(lambda x: ast.literal_eval(x))\n",
    "    df.loc[:, 'W'] = df['W'].apply(lambda x: ast.literal_eval(x))\n",
    "    return df"
   ]
  },
  {
   "cell_type": "code",
   "execution_count": 3,
   "metadata": {
    "scrolled": true
   },
   "outputs": [],
   "source": [
    "df = read_data('parkinson_data.csv', ';')"
   ]
  },
  {
   "cell_type": "code",
   "execution_count": 4,
   "metadata": {},
   "outputs": [
    {
     "name": "stdout",
     "output_type": "stream",
     "text": [
      "Total number of articles: 70119\n"
     ]
    }
   ],
   "source": [
    "print('Total number of articles:', df.shape[0])"
   ]
  },
  {
   "cell_type": "markdown",
   "metadata": {},
   "source": [
    "There are some publications without DOI, so we can divide them into different files. In the further analysis only articles with DOI will be used"
   ]
  },
  {
   "cell_type": "code",
   "execution_count": 97,
   "metadata": {},
   "outputs": [],
   "source": [
    "no_doi_data = df.loc[df['DOI'].isna()]\n",
    "with_doi_data = df.loc[df['DOI'].isna() == False]\n",
    "no_doi_data.reset_index(drop = True, inplace = True)\n",
    "with_doi_data.reset_index(drop = True, inplace = True)\n",
    "no_doi_data.to_csv('no_doi.csv', sep = ';', index = False)\n",
    "with_doi_data.to_csv('with_doi.csv', sep = ';', index = False)"
   ]
  },
  {
   "cell_type": "code",
   "execution_count": 5,
   "metadata": {},
   "outputs": [],
   "source": [
    "no_doi_data = read_data('no_doi.csv', sep = ';')\n",
    "with_doi_data = read_data('with_doi.csv', sep = ';')"
   ]
  },
  {
   "cell_type": "code",
   "execution_count": 6,
   "metadata": {},
   "outputs": [
    {
     "name": "stdout",
     "output_type": "stream",
     "text": [
      "With DOI: 59438\n",
      "Without DOI: 10681\n"
     ]
    }
   ],
   "source": [
    "print('With DOI:', with_doi_data.shape[0])\n",
    "print('Without DOI:', no_doi_data.shape[0])"
   ]
  },
  {
   "cell_type": "markdown",
   "metadata": {},
   "source": [
    "There are also some articles with DOI and without abstract, journal. In the further analysis only articles with DOI, abstract and journal will be used"
   ]
  },
  {
   "cell_type": "code",
   "execution_count": null,
   "metadata": {},
   "outputs": [],
   "source": [
    "no_annotation = with_doi_data[with_doi_data['AW'].isna()]\n",
    "no_annotation.to_csv('no_annotation.csv', sep = ';', index = False)\n",
    "with_doi_annotation = with_doi_data[with_doi_data['AW'].isna() == False]\n",
    "with_doi_annotation.reset_index(inplace=True, drop=True)\n",
    "with_doi_annotation.to_csv('with_doi_annotation.csv', sep = ';', index = False)"
   ]
  },
  {
   "cell_type": "code",
   "execution_count": 8,
   "metadata": {},
   "outputs": [],
   "source": [
    "with_doi_annotation = read_data('with_doi_annotation.csv', ';')"
   ]
  },
  {
   "cell_type": "code",
   "execution_count": 11,
   "metadata": {},
   "outputs": [
    {
     "name": "stdout",
     "output_type": "stream",
     "text": [
      "With DOI and without abstract : 7315\n",
      "With DOI and abstract : 52123\n",
      "With DOI, abstract and without journal: 6183\n",
      "With DOI, abstract and journal: 45940\n"
     ]
    }
   ],
   "source": [
    "print('With DOI and without abstract :', with_doi_data[with_doi_data['AW'].isna()].count()['Id'])\n",
    "print('With DOI and abstract :', with_doi_data[with_doi_data['AW'].isna() == False].count()['Id'])\n",
    "print('With DOI, abstract and without journal:', with_doi_annotation[with_doi_annotation['J'].isna()].count()['Id'])\n",
    "print('With DOI, abstract and journal:', with_doi_annotation[with_doi_annotation['J'].isna() == False].count()['Id'])"
   ]
  },
  {
   "cell_type": "code",
   "execution_count": 12,
   "metadata": {},
   "outputs": [],
   "source": [
    "with_doi_annotation_journals = with_doi_annotation[with_doi_annotation['J'].isna() == False]\n",
    "with_doi_annotation_journals.to_csv('with_doi_annotation_journals.csv', sep = ';', index = False)"
   ]
  },
  {
   "cell_type": "code",
   "execution_count": 19,
   "metadata": {},
   "outputs": [
    {
     "name": "stdout",
     "output_type": "stream",
     "text": [
      "The number of articles with DOI, abstract and journal in each year\n"
     ]
    },
    {
     "data": {
      "text/html": [
       "<div>\n",
       "<style scoped>\n",
       "    .dataframe tbody tr th:only-of-type {\n",
       "        vertical-align: middle;\n",
       "    }\n",
       "\n",
       "    .dataframe tbody tr th {\n",
       "        vertical-align: top;\n",
       "    }\n",
       "\n",
       "    .dataframe thead th {\n",
       "        text-align: right;\n",
       "    }\n",
       "</style>\n",
       "<table border=\"1\" class=\"dataframe\">\n",
       "  <thead>\n",
       "    <tr style=\"text-align: right;\">\n",
       "      <th></th>\n",
       "      <th>Cnt</th>\n",
       "    </tr>\n",
       "  </thead>\n",
       "  <tbody>\n",
       "    <tr>\n",
       "      <td>2021</td>\n",
       "      <td>8074</td>\n",
       "    </tr>\n",
       "    <tr>\n",
       "      <td>2020</td>\n",
       "      <td>7549</td>\n",
       "    </tr>\n",
       "    <tr>\n",
       "      <td>2019</td>\n",
       "      <td>6594</td>\n",
       "    </tr>\n",
       "    <tr>\n",
       "      <td>2017</td>\n",
       "      <td>6249</td>\n",
       "    </tr>\n",
       "    <tr>\n",
       "      <td>2018</td>\n",
       "      <td>5922</td>\n",
       "    </tr>\n",
       "    <tr>\n",
       "      <td>2016</td>\n",
       "      <td>5892</td>\n",
       "    </tr>\n",
       "    <tr>\n",
       "      <td>2015</td>\n",
       "      <td>5660</td>\n",
       "    </tr>\n",
       "  </tbody>\n",
       "</table>\n",
       "</div>"
      ],
      "text/plain": [
       "       Cnt\n",
       "2021  8074\n",
       "2020  7549\n",
       "2019  6594\n",
       "2017  6249\n",
       "2018  5922\n",
       "2016  5892\n",
       "2015  5660"
      ]
     },
     "execution_count": 19,
     "metadata": {},
     "output_type": "execute_result"
    }
   ],
   "source": [
    "print('The number of articles with DOI, abstract and journal in each year')\n",
    "pd.DataFrame(with_doi_annotation_journals['Y'].value_counts()).rename(columns ={'Y':'Cnt'})"
   ]
  },
  {
   "cell_type": "code",
   "execution_count": 21,
   "metadata": {},
   "outputs": [
    {
     "data": {
      "image/png": "[encoded data removed]",
      "text/plain": [
       "<Figure size 720x504 with 1 Axes>"
      ]
     },
     "metadata": {
      "needs_background": "light"
     },
     "output_type": "display_data"
    }
   ],
   "source": [
    "plt.rcParams['figure.figsize'] = 10, 7\n",
    "plt.title('Distribution by year for data with DOI, abstract and journal', fontsize = 16)\n",
    "plt.xlabel('Year', fontsize = 16)\n",
    "plt.grid(axis = 'y', which = 'both', zorder = 0)\n",
    "plt.hist(with_doi_annotation_journals['Y'], bins = 14, color = 'green', rwidth = 1, align = 'mid', zorder = 3)\n",
    "mpl.rcParams['savefig.format'] = 'pdf'\n",
    "plt.savefig('distribution.png')\n",
    "plt.show()"
   ]
  },
  {
   "cell_type": "markdown",
   "metadata": {},
   "source": [
    "Descriptive statistics for CC - citation count"
   ]
  },
  {
   "cell_type": "code",
   "execution_count": 24,
   "metadata": {},
   "outputs": [
    {
     "data": {
      "text/html": [
       "<div>\n",
       "<style scoped>\n",
       "    .dataframe tbody tr th:only-of-type {\n",
       "        vertical-align: middle;\n",
       "    }\n",
       "\n",
       "    .dataframe tbody tr th {\n",
       "        vertical-align: top;\n",
       "    }\n",
       "\n",
       "    .dataframe thead th {\n",
       "        text-align: right;\n",
       "    }\n",
       "</style>\n",
       "<table border=\"1\" class=\"dataframe\">\n",
       "  <thead>\n",
       "    <tr style=\"text-align: right;\">\n",
       "      <th></th>\n",
       "      <th>count</th>\n",
       "      <th>mean</th>\n",
       "      <th>std</th>\n",
       "      <th>min</th>\n",
       "      <th>25%</th>\n",
       "      <th>50%</th>\n",
       "      <th>75%</th>\n",
       "      <th>max</th>\n",
       "    </tr>\n",
       "    <tr>\n",
       "      <th>Y</th>\n",
       "      <th></th>\n",
       "      <th></th>\n",
       "      <th></th>\n",
       "      <th></th>\n",
       "      <th></th>\n",
       "      <th></th>\n",
       "      <th></th>\n",
       "      <th></th>\n",
       "    </tr>\n",
       "  </thead>\n",
       "  <tbody>\n",
       "    <tr>\n",
       "      <td>2015</td>\n",
       "      <td>5660.0</td>\n",
       "      <td>30.313958</td>\n",
       "      <td>59.909328</td>\n",
       "      <td>0.0</td>\n",
       "      <td>6.0</td>\n",
       "      <td>16.0</td>\n",
       "      <td>35.0</td>\n",
       "      <td>2014.0</td>\n",
       "    </tr>\n",
       "    <tr>\n",
       "      <td>2016</td>\n",
       "      <td>5892.0</td>\n",
       "      <td>25.807536</td>\n",
       "      <td>45.867736</td>\n",
       "      <td>0.0</td>\n",
       "      <td>5.0</td>\n",
       "      <td>14.0</td>\n",
       "      <td>31.0</td>\n",
       "      <td>1347.0</td>\n",
       "    </tr>\n",
       "    <tr>\n",
       "      <td>2017</td>\n",
       "      <td>6249.0</td>\n",
       "      <td>23.293487</td>\n",
       "      <td>44.403213</td>\n",
       "      <td>0.0</td>\n",
       "      <td>5.0</td>\n",
       "      <td>13.0</td>\n",
       "      <td>26.0</td>\n",
       "      <td>1535.0</td>\n",
       "    </tr>\n",
       "    <tr>\n",
       "      <td>2018</td>\n",
       "      <td>5922.0</td>\n",
       "      <td>18.264100</td>\n",
       "      <td>31.609280</td>\n",
       "      <td>0.0</td>\n",
       "      <td>4.0</td>\n",
       "      <td>10.0</td>\n",
       "      <td>21.0</td>\n",
       "      <td>790.0</td>\n",
       "    </tr>\n",
       "    <tr>\n",
       "      <td>2019</td>\n",
       "      <td>6594.0</td>\n",
       "      <td>12.939339</td>\n",
       "      <td>21.956273</td>\n",
       "      <td>0.0</td>\n",
       "      <td>3.0</td>\n",
       "      <td>7.0</td>\n",
       "      <td>15.0</td>\n",
       "      <td>497.0</td>\n",
       "    </tr>\n",
       "    <tr>\n",
       "      <td>2020</td>\n",
       "      <td>7549.0</td>\n",
       "      <td>6.207312</td>\n",
       "      <td>11.416934</td>\n",
       "      <td>0.0</td>\n",
       "      <td>1.0</td>\n",
       "      <td>3.0</td>\n",
       "      <td>7.0</td>\n",
       "      <td>285.0</td>\n",
       "    </tr>\n",
       "    <tr>\n",
       "      <td>2021</td>\n",
       "      <td>8074.0</td>\n",
       "      <td>1.291058</td>\n",
       "      <td>3.181336</td>\n",
       "      <td>0.0</td>\n",
       "      <td>0.0</td>\n",
       "      <td>0.0</td>\n",
       "      <td>1.0</td>\n",
       "      <td>94.0</td>\n",
       "    </tr>\n",
       "  </tbody>\n",
       "</table>\n",
       "</div>"
      ],
      "text/plain": [
       "       count       mean        std  min  25%   50%   75%     max\n",
       "Y                                                               \n",
       "2015  5660.0  30.313958  59.909328  0.0  6.0  16.0  35.0  2014.0\n",
       "2016  5892.0  25.807536  45.867736  0.0  5.0  14.0  31.0  1347.0\n",
       "2017  6249.0  23.293487  44.403213  0.0  5.0  13.0  26.0  1535.0\n",
       "2018  5922.0  18.264100  31.609280  0.0  4.0  10.0  21.0   790.0\n",
       "2019  6594.0  12.939339  21.956273  0.0  3.0   7.0  15.0   497.0\n",
       "2020  7549.0   6.207312  11.416934  0.0  1.0   3.0   7.0   285.0\n",
       "2021  8074.0   1.291058   3.181336  0.0  0.0   0.0   1.0    94.0"
      ]
     },
     "execution_count": 24,
     "metadata": {},
     "output_type": "execute_result"
    }
   ],
   "source": [
    "with_doi_annotation_journals.groupby('Y')['CC'].describe()"
   ]
  },
  {
   "cell_type": "code",
   "execution_count": 25,
   "metadata": {},
   "outputs": [
    {
     "data": {
      "text/html": [
       "<div>\n",
       "<style scoped>\n",
       "    .dataframe tbody tr th:only-of-type {\n",
       "        vertical-align: middle;\n",
       "    }\n",
       "\n",
       "    .dataframe tbody tr th {\n",
       "        vertical-align: top;\n",
       "    }\n",
       "\n",
       "    .dataframe thead th {\n",
       "        text-align: right;\n",
       "    }\n",
       "</style>\n",
       "<table border=\"1\" class=\"dataframe\">\n",
       "  <thead>\n",
       "    <tr style=\"text-align: right;\">\n",
       "      <th></th>\n",
       "      <th>CC</th>\n",
       "      <th>CC = 0</th>\n",
       "      <th>CC &gt; 0</th>\n",
       "      <th>CC = 0, %</th>\n",
       "      <th>CC &gt; 0, %</th>\n",
       "    </tr>\n",
       "    <tr>\n",
       "      <th>Y</th>\n",
       "      <th></th>\n",
       "      <th></th>\n",
       "      <th></th>\n",
       "      <th></th>\n",
       "      <th></th>\n",
       "    </tr>\n",
       "  </thead>\n",
       "  <tbody>\n",
       "    <tr>\n",
       "      <td>2015</td>\n",
       "      <td>5660</td>\n",
       "      <td>515</td>\n",
       "      <td>5145</td>\n",
       "      <td>9.098940</td>\n",
       "      <td>90.901060</td>\n",
       "    </tr>\n",
       "    <tr>\n",
       "      <td>2016</td>\n",
       "      <td>5892</td>\n",
       "      <td>595</td>\n",
       "      <td>5297</td>\n",
       "      <td>10.098439</td>\n",
       "      <td>89.901561</td>\n",
       "    </tr>\n",
       "    <tr>\n",
       "      <td>2017</td>\n",
       "      <td>6249</td>\n",
       "      <td>554</td>\n",
       "      <td>5695</td>\n",
       "      <td>8.865418</td>\n",
       "      <td>91.134582</td>\n",
       "    </tr>\n",
       "    <tr>\n",
       "      <td>2018</td>\n",
       "      <td>5922</td>\n",
       "      <td>611</td>\n",
       "      <td>5311</td>\n",
       "      <td>10.317460</td>\n",
       "      <td>89.682540</td>\n",
       "    </tr>\n",
       "    <tr>\n",
       "      <td>2019</td>\n",
       "      <td>6594</td>\n",
       "      <td>752</td>\n",
       "      <td>5842</td>\n",
       "      <td>11.404307</td>\n",
       "      <td>88.595693</td>\n",
       "    </tr>\n",
       "    <tr>\n",
       "      <td>2020</td>\n",
       "      <td>7549</td>\n",
       "      <td>1389</td>\n",
       "      <td>6160</td>\n",
       "      <td>18.399788</td>\n",
       "      <td>81.600212</td>\n",
       "    </tr>\n",
       "    <tr>\n",
       "      <td>2021</td>\n",
       "      <td>8074</td>\n",
       "      <td>4718</td>\n",
       "      <td>3356</td>\n",
       "      <td>58.434481</td>\n",
       "      <td>41.565519</td>\n",
       "    </tr>\n",
       "  </tbody>\n",
       "</table>\n",
       "</div>"
      ],
      "text/plain": [
       "        CC  CC = 0  CC > 0  CC = 0, %  CC > 0, %\n",
       "Y                                               \n",
       "2015  5660     515    5145   9.098940  90.901060\n",
       "2016  5892     595    5297  10.098439  89.901561\n",
       "2017  6249     554    5695   8.865418  91.134582\n",
       "2018  5922     611    5311  10.317460  89.682540\n",
       "2019  6594     752    5842  11.404307  88.595693\n",
       "2020  7549    1389    6160  18.399788  81.600212\n",
       "2021  8074    4718    3356  58.434481  41.565519"
      ]
     },
     "execution_count": 25,
     "metadata": {},
     "output_type": "execute_result"
    }
   ],
   "source": [
    "cc = pd.DataFrame(with_doi_annotation_journals.groupby('Y').count()['CC'])\n",
    "cc0 = pd.DataFrame(with_doi_annotation_journals[with_doi_annotation_journals['CC'] == 0].groupby('Y').count()['CC'])\n",
    "cc0.rename(columns = {'CC':'CC = 0'}, inplace = True)\n",
    "cc1 = pd.DataFrame(with_doi_annotation_journals[with_doi_annotation_journals['CC'] != 0].groupby('Y').count()['CC'])\n",
    "cc1.rename(columns = {'CC':'CC > 0'}, inplace = True)\n",
    "cc_stat = cc.join(cc0.join(cc1, on = 'Y'), on = 'Y')\n",
    "cc_stat['CC = 0, %'] = cc_stat['CC = 0'] / cc_stat['CC'] * 100\n",
    "cc_stat['CC > 0, %'] = cc_stat['CC > 0'] / cc_stat['CC'] * 100\n",
    "cc_stat"
   ]
  }
 ],
 "metadata": {
  "kernelspec": {
   "display_name": "Python 3",
   "language": "python",
   "name": "python3"
  },
  "language_info": {
   "codemirror_mode": {
    "name": "ipython",
    "version": 3
   },
   "file_extension": ".py",
   "mimetype": "text/x-python",
   "name": "python",
   "nbconvert_exporter": "python",
   "pygments_lexer": "ipython3",
   "version": "3.7.4"
  }
 },
 "nbformat": 4,
 "nbformat_minor": 4
}
